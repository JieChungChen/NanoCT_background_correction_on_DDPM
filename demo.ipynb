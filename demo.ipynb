{
 "cells": [
  {
   "cell_type": "code",
   "execution_count": null,
   "metadata": {},
   "outputs": [],
   "source": [
    "import torch\n",
    "import glob, yaml, os\n",
    "import numpy as np\n",
    "import matplotlib.pyplot as plt\n",
    "import matplotlib as mpl\n",
    "mpl.rcParams['figure.dpi'] = 100\n",
    "from PIL import Image\n",
    "\n",
    "from ddpm.model import Diffusion_UNet\n",
    "from ddpm.diffusion import DDIM_Sampler\n",
    "from utils import min_max_norm, calc_psnr"
   ]
  },
  {
   "cell_type": "markdown",
   "metadata": {},
   "source": [
    "## load model"
   ]
  },
  {
   "cell_type": "code",
   "execution_count": null,
   "metadata": {},
   "outputs": [
    {
     "name": "stdout",
     "output_type": "stream",
     "text": [
      "(4, 256, 256)\n",
      "Process: image_1\n"
     ]
    },
    {
     "name": "stderr",
     "output_type": "stream",
     "text": [
      "DDIM Sampling: 100%|██████████| 50/50 [00:02<00:00, 16.74it/s]\n"
     ]
    },
    {
     "name": "stdout",
     "output_type": "stream",
     "text": [
      "Process: image_2\n"
     ]
    },
    {
     "name": "stderr",
     "output_type": "stream",
     "text": [
      "DDIM Sampling: 100%|██████████| 50/50 [00:02<00:00, 17.32it/s]\n"
     ]
    },
    {
     "name": "stdout",
     "output_type": "stream",
     "text": [
      "Process: image_3\n"
     ]
    },
    {
     "name": "stderr",
     "output_type": "stream",
     "text": [
      "DDIM Sampling: 100%|██████████| 50/50 [00:02<00:00, 18.12it/s]\n"
     ]
    }
   ],
   "source": [
    "config_path = 'configs/ddpm_pair_v3.yml'\n",
    "model_path = 'checkpoints/ddpm_pair_v3_310K.pt'\n",
    "data_folder = 'demo_imgs/20230222_Sb_m6-1-b2-60s-0.88V'\n",
    "\n",
    "with open(config_path, 'r') as f:\n",
    "    configs = yaml.safe_load(f)\n",
    "model_configs = configs['model_settings']\n",
    "ddpm_configs = configs['ddpm_settings']\n",
    "img_size = configs['data_settings']['img_size']\n",
    "\n",
    "model = Diffusion_UNet(model_configs).cuda()\n",
    "model = torch.nn.DataParallel(model)\n",
    "model.load_state_dict(torch.load(model_path, map_location='cuda:0'), strict=False)\n",
    "model.eval()\n",
    "sampler = DDIM_Sampler(model, ddpm_configs, ddim_sampling_steps=50).cuda()\n",
    "\n",
    "# load images\n",
    "img_list = sorted(glob.glob(f'{data_folder}/*.tif'))\n",
    "imgs = []\n",
    "for img_path in img_list:\n",
    "    img_path = os.path.normpath(img_path)\n",
    "    im = Image.open(img_path).resize((img_size, img_size))\n",
    "    imgs.append(np.array(im)/10000)\n",
    "imgs = np.array(imgs)\n",
    "print(imgs.shape)\n",
    "\n",
    "# inference\n",
    "dref_imgs = []\n",
    "os.makedirs('figs', exist_ok=True)\n",
    "with torch.no_grad():\n",
    "    for i in range(len(imgs)-1):\n",
    "        print(f'Process: image_{i+1}')\n",
    "        input_1 = torch.from_numpy(imgs[i]).unsqueeze(0).float()\n",
    "        input_2 = torch.from_numpy(imgs[i+1]).unsqueeze(0).float()\n",
    "        input_imgs = torch.cat([input_1, input_2], dim=0)\n",
    "        torch.manual_seed(1)\n",
    "        noise = torch.randn(size=[1, 1, img_size, img_size]).cuda()\n",
    "        pred = sampler(input_imgs.view(1, 2, img_size, img_size).cuda(), noise).squeeze().cpu().numpy()\n",
    "        obj_pred_1 = input_imgs[0].numpy()/pred\n",
    "        obj_pred_2 = input_imgs[1].numpy()/pred\n",
    "        obj_pred_1 = np.clip(obj_pred_1, obj_pred_1[:, :-30].min(), obj_pred_1[:, :-30].max())\n",
    "        obj_pred_2 = np.clip(obj_pred_2, obj_pred_2[:, :-30].min(), obj_pred_2[:, :-30].max())\n",
    "        obj_pred_1, obj_pred_2 = min_max_norm(obj_pred_1), min_max_norm(obj_pred_2)\n",
    "        im = Image.fromarray(obj_pred_1)\n",
    "        im.save(f'figs/{str(i).zfill(2)}.tif')\n",
    "        if i == len(imgs)-2:\n",
    "            im = Image.fromarray(obj_pred_2)\n",
    "            im.save(f'figs/{str(i+1).zfill(2)}.tif')"
   ]
  }
 ],
 "metadata": {
  "kernelspec": {
   "display_name": "torch_env",
   "language": "python",
   "name": "python3"
  },
  "language_info": {
   "codemirror_mode": {
    "name": "ipython",
    "version": 3
   },
   "file_extension": ".py",
   "mimetype": "text/x-python",
   "name": "python",
   "nbconvert_exporter": "python",
   "pygments_lexer": "ipython3",
   "version": "3.11.10"
  }
 },
 "nbformat": 4,
 "nbformat_minor": 2
}
